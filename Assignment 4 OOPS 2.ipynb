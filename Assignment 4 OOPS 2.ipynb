{
 "cells": [
  {
   "cell_type": "code",
   "execution_count": 1,
   "id": "18c6e059",
   "metadata": {},
   "outputs": [
    {
     "name": "stdout",
     "output_type": "stream",
     "text": [
      "black\n",
      "2\n",
      "ball point\n"
     ]
    }
   ],
   "source": [
    "'''#1\n",
    "# CLASS: - In OOPS class is the blueprint that defines properties and behaviour that a object will have. we can make as many objects of a class as we want. \n",
    "# OBJECTS: - In OOPS object is an instance of a class through which we can use the attributes of class. \n",
    "'''\n",
    "\n",
    "#class example\n",
    "class pen:\n",
    "    def __init__(self,colour,body_dia,typee):\n",
    "        self.colour = colour\n",
    "        self.body_dia = body_dia\n",
    "        self.typee = typee\n",
    "        \n",
    "# onject of class example\n",
    "ridometer = pen(\"black\",2,\"ball point\")\n",
    "\n",
    "print(ridometer.colour)\n",
    "print(ridometer.body_dia)\n",
    "print(ridometer.typee)"
   ]
  },
  {
   "cell_type": "code",
   "execution_count": 2,
   "id": "519e5908",
   "metadata": {},
   "outputs": [
    {
     "data": {
      "text/plain": [
       "'2. The four pillers of OOPS are  Encapsulation,Inheritence,Abstraction and polymorphisam\\n\\nEncapsulation:- it restricts direct use of some attributes and force code to use the methods provides by class to intract with \\n                class.\\nInheritence:- it the mechanism that allows a class to inherite properties and behaviour of some other class. it increase\\n              the resuability of the class.\\nAbstraction:- it is the process of hiding complex implementation part of the cade and shows only important features.\\n              It increase the simplisity of the code.\\nPolymosphism:- It refers to the ability of code to take on multiple forms with respect to different data types.'"
      ]
     },
     "execution_count": 2,
     "metadata": {},
     "output_type": "execute_result"
    }
   ],
   "source": [
    "'''2. The four pillers of OOPS are  Encapsulation,Inheritence,Abstraction and polymorphisam\n",
    "\n",
    "Encapsulation:- it restricts direct use of some attributes and force code to use the methods provides by class to intract with \n",
    "                class.\n",
    "Inheritence:- it the mechanism that allows a class to inherite properties and behaviour of some other class. it increase\n",
    "              the resuability of the class.\n",
    "Abstraction:- it is the process of hiding complex implementation part of the cade and shows only important features.\n",
    "              It increase the simplisity of the code.\n",
    "Polymosphism:- It refers to the ability of code to take on multiple forms with respect to different data types.'''"
   ]
  },
  {
   "cell_type": "code",
   "execution_count": 3,
   "id": "9d26cfe8",
   "metadata": {},
   "outputs": [],
   "source": [
    "'''3. __init __():- In OOPS __init__() function is used to initilize the sttributes of a class while it is created. it stands \n",
    "for initilize and also known as constructor method.'''\n",
    "\n",
    "class Person:\n",
    "    def __init__(self, name, age):\n",
    "        self.name = name\n",
    "        self.age = age\n",
    "\n",
    "    def display_info(self):\n",
    "        print(f\"Name: {self.name}, Age: {self.age}\")\n"
   ]
  },
  {
   "cell_type": "code",
   "execution_count": 4,
   "id": "431e3a4f",
   "metadata": {},
   "outputs": [
    {
     "data": {
      "text/plain": [
       "'\\n4. self:- In OOPS self is the reference of the instance of the class. It is a conventional name used in python to represent \\n            the instance of the class when referring to its attributes and methods.\\n'"
      ]
     },
     "execution_count": 4,
     "metadata": {},
     "output_type": "execute_result"
    }
   ],
   "source": [
    "'''\n",
    "4. self:- In OOPS self is the reference of the instance of the class. It is a conventional name used in python to represent \n",
    "            the instance of the class when referring to its attributes and methods.\n",
    "'''"
   ]
  },
  {
   "cell_type": "code",
   "execution_count": 5,
   "id": "807d7383",
   "metadata": {},
   "outputs": [
    {
     "name": "stdout",
     "output_type": "stream",
     "text": [
      "Dog\n",
      "Labrador\n",
      "Woof!\n",
      "this is test 1\n",
      "this is test 2\n",
      "this is test 3\n",
      "Method A from class A\n",
      "Method B from class B\n",
      "Method C from class C\n"
     ]
    }
   ],
   "source": [
    "'''\n",
    "5. Inheritence:- it the mechanism that allows a class to inherite properties and behaviour of some other class. it increase\n",
    "              the resuability of the class.\n",
    "              \n",
    "There are three types of inheritence\n",
    "        1.single inheritence\n",
    "        2.multiple inheritence\n",
    "        3.hirarchical inheritence\n",
    "              \n",
    "'''\n",
    "\n",
    "#  1.single inheritence\n",
    "\n",
    "class Animal:\n",
    "    def __init__(self, species):\n",
    "        self.species = species\n",
    "\n",
    "\n",
    "class Dog(Animal):\n",
    "    def __init__(self, breed):\n",
    "        super().__init__('Dog')\n",
    "        self.breed = breed\n",
    "\n",
    "    def make_sound(self):\n",
    "        return \"Woof!\"\n",
    "\n",
    "\n",
    "dog = Dog('Labrador')\n",
    "print(dog.species)  \n",
    "print(dog.breed)    \n",
    "print(dog.make_sound())\n",
    "\n",
    "\n",
    "\n",
    "#  2.multiple inheritence\n",
    "\n",
    "class A:\n",
    "    def test1(self):\n",
    "        return \"this is test 1\"\n",
    "\n",
    "class B:\n",
    "    def test2(self):\n",
    "        return \"this is test 2\"\n",
    "\n",
    "class C(A, B):\n",
    "    def test3(self):\n",
    "        return \"this is test 3\"\n",
    "\n",
    "\n",
    "obj = C()\n",
    "print(obj.test1()) \n",
    "print(obj.test2())  \n",
    "print(obj.test3())  \n",
    "\n",
    "\n",
    "#  3.hirarchical inheritence\n",
    "\n",
    "class A:\n",
    "    def method_A(self):\n",
    "        return \"Method A from class A\"\n",
    "\n",
    "class B(A):\n",
    "    def method_B(self):\n",
    "        return \"Method B from class B\"\n",
    "\n",
    "class C(B):\n",
    "    def method_C(self):\n",
    "        return \"Method C from class C\"\n",
    "\n",
    "\n",
    "obj = C()\n",
    "print(obj.method_A()) \n",
    "print(obj.method_B()) \n",
    "print(obj.method_C()) \n"
   ]
  },
  {
   "cell_type": "code",
   "execution_count": null,
   "id": "5783ef57",
   "metadata": {},
   "outputs": [],
   "source": []
  }
 ],
 "metadata": {
  "kernelspec": {
   "display_name": "Python 3 (ipykernel)",
   "language": "python",
   "name": "python3"
  },
  "language_info": {
   "codemirror_mode": {
    "name": "ipython",
    "version": 3
   },
   "file_extension": ".py",
   "mimetype": "text/x-python",
   "name": "python",
   "nbconvert_exporter": "python",
   "pygments_lexer": "ipython3",
   "version": "3.11.4"
  }
 },
 "nbformat": 4,
 "nbformat_minor": 5
}
